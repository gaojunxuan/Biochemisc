{
 "cells": [
  {
   "cell_type": "code",
   "execution_count": 31,
   "metadata": {},
   "outputs": [],
   "source": [
    "aa = set(['A', 'C', 'D', 'E', 'F', 'G', 'H', 'I', 'K', 'L', 'M', 'N', 'P', 'Q', 'R', 'S', 'T', 'V', 'W', 'Y'])\n",
    "cA_exception = set(['P', 'R', 'K'])\n",
    "slice_before = {\n",
    "    'carboxypeptidaseA': aa - cA_exception,\n",
    "    'carboxypeptidaseB': set(['R', 'K'])\n",
    "}\n",
    "slice_after = {\n",
    "    'trypsin': set(['K', 'R']),\n",
    "    'chymotrypsin': set(['W', 'Y', 'F', 'L', 'M']),\n",
    "    'cyanogenBr': set(['M'])\n",
    "}"
   ]
  },
  {
   "cell_type": "code",
   "execution_count": 60,
   "metadata": {},
   "outputs": [],
   "source": [
    "def indices(element, lst):\n",
    "    return [index for index, value in enumerate(lst) if value == element]"
   ]
  },
  {
   "cell_type": "markdown",
   "metadata": {},
   "source": [
    "Carboxypeptidase A cleaves **before** any residue except Pro, Arg, and Lys at C-terminal end of polypeptide."
   ]
  },
  {
   "cell_type": "code",
   "execution_count": 66,
   "metadata": {},
   "outputs": [],
   "source": [
    "def cA_cleave(peptide):\n",
    "    cleave_sites = []\n",
    "    for i in slice_before['carboxypeptidaseA']:\n",
    "        if i in peptide:\n",
    "            for j in indices(i, peptide):\n",
    "                cleave_sites.append(j)\n",
    "    if 0 not in cleave_sites:\n",
    "        cleave_sites.append(0)\n",
    "    cleave_sites.sort()\n",
    "    cleave_sites.append(None)\n",
    "    return [peptide[cleave_sites[i]:cleave_sites[i+1]] for i in range(len(cleave_sites)-1)]"
   ]
  },
  {
   "cell_type": "markdown",
   "metadata": {},
   "source": [
    "Carboxypeptidase B cleaves **before** Arg and Lys residue at the C-terminal end of polypeptide."
   ]
  },
  {
   "cell_type": "code",
   "execution_count": 67,
   "metadata": {},
   "outputs": [],
   "source": [
    "def cB_cleave(peptide):\n",
    "    cleave_sites = []\n",
    "    for i in slice_before['carboxypeptidaseB']:\n",
    "        if i in peptide:\n",
    "            for j in indices(i, peptide):\n",
    "                cleave_sites.append(j)\n",
    "    if 0 not in cleave_sites:\n",
    "        cleave_sites.append(0)\n",
    "    cleave_sites.sort()\n",
    "    cleave_sites.append(None)\n",
    "    return [peptide[cleave_sites[i]:cleave_sites[i+1]] for i in range(len(cleave_sites)-1)]"
   ]
  },
  {
   "cell_type": "markdown",
   "metadata": {},
   "source": [
    "Trypsin cleaves **after** Lys and Arg, only if Pro is not in the peptide bond."
   ]
  },
  {
   "cell_type": "code",
   "execution_count": 149,
   "metadata": {},
   "outputs": [],
   "source": [
    "def trypsin_cleave(peptide):\n",
    "    cleave_sites = []\n",
    "    for i in slice_after['trypsin']:\n",
    "        if i in peptide:\n",
    "            for j in indices(i, peptide):\n",
    "                if j+1 < len(peptide) and peptide[j+1] != 'P':\n",
    "                    cleave_sites.append(j+1)\n",
    "    if 0 not in cleave_sites:\n",
    "        cleave_sites.append(0)\n",
    "    cleave_sites.sort()\n",
    "    cleave_sites.append(len(peptide))\n",
    "    return [peptide[cleave_sites[i]:cleave_sites[i+1]] for i in range(len(cleave_sites)-1)]"
   ]
  },
  {
   "cell_type": "markdown",
   "metadata": {},
   "source": [
    "Chymotrypsin cleaves **after** bulky or hydrophobic side chains (Trp, Tyr, Phe, Leu, Met)."
   ]
  },
  {
   "cell_type": "code",
   "execution_count": 150,
   "metadata": {},
   "outputs": [],
   "source": [
    "def chymotrypsin_cleave(peptide):\n",
    "    cleave_sites = []\n",
    "    for i in slice_after['chymotrypsin']:\n",
    "        if i in peptide:\n",
    "            for j in indices(i, peptide):\n",
    "                if j+1 < len(peptide):\n",
    "                    cleave_sites.append(j+1)\n",
    "    if 0 not in cleave_sites:\n",
    "        cleave_sites.append(0)\n",
    "    cleave_sites.sort()\n",
    "    cleave_sites.append(len(peptide))\n",
    "    return [peptide[cleave_sites[i]:cleave_sites[i+1]] for i in range(len(cleave_sites)-1)]"
   ]
  },
  {
   "cell_type": "markdown",
   "metadata": {},
   "source": [
    "Cyanogen bromide cleaves on the **carboxyl side** of Met."
   ]
  },
  {
   "cell_type": "code",
   "execution_count": 154,
   "metadata": {},
   "outputs": [],
   "source": [
    "def brCN_cleave(peptide):\n",
    "    cleave_sites = []\n",
    "    for i in slice_after['cyanogenBr']:\n",
    "        if i in peptide:\n",
    "            for j in indices(i, peptide):\n",
    "                if j+1 < len(peptide):\n",
    "                    cleave_sites.append(j+1)\n",
    "    if 0 not in cleave_sites:\n",
    "        cleave_sites.append(0)\n",
    "    cleave_sites.sort()\n",
    "    cleave_sites.append(len(peptide))\n",
    "    return [peptide[cleave_sites[i]:cleave_sites[i+1]] for i in range(len(cleave_sites)-1)]"
   ]
  },
  {
   "cell_type": "code",
   "execution_count": 155,
   "metadata": {},
   "outputs": [
    {
     "data": {
      "text/plain": [
       "['R', 'R', 'R', 'R', 'CCK', 'EFK', 'FR', 'RPR']"
      ]
     },
     "execution_count": 155,
     "metadata": {},
     "output_type": "execute_result"
    }
   ],
   "source": [
    "trypsin_cleave('RRRRCCKEFKFRRPR')"
   ]
  },
  {
   "cell_type": "code",
   "execution_count": 156,
   "metadata": {},
   "outputs": [
    {
     "data": {
      "text/plain": [
       "['WFLM', 'RRRRM']"
      ]
     },
     "execution_count": 156,
     "metadata": {},
     "output_type": "execute_result"
    }
   ],
   "source": [
    "brCN_cleave('WFLMRRRRM')"
   ]
  },
  {
   "cell_type": "code",
   "execution_count": null,
   "metadata": {},
   "outputs": [],
   "source": []
  },
  {
   "cell_type": "code",
   "execution_count": null,
   "metadata": {},
   "outputs": [],
   "source": []
  }
 ],
 "metadata": {
  "kernelspec": {
   "display_name": "Python 3",
   "language": "python",
   "name": "python3"
  },
  "language_info": {
   "codemirror_mode": {
    "name": "ipython",
    "version": 3
   },
   "file_extension": ".py",
   "mimetype": "text/x-python",
   "name": "python",
   "nbconvert_exporter": "python",
   "pygments_lexer": "ipython3",
   "version": "3.7.0"
  }
 },
 "nbformat": 4,
 "nbformat_minor": 4
}
