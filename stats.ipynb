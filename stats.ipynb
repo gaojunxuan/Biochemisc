{
 "cells": [
  {
   "cell_type": "code",
   "execution_count": 26,
   "metadata": {},
   "outputs": [],
   "source": [
    "negative_aa = set(['D', 'E'])\n",
    "positive_aa = set(['R', 'K'])\n",
    "nonpolar_aa = set(['A','V', 'L', 'I', 'P', 'F', 'M', 'W', 'G', 'C'])\n",
    "polar_aa = set(['N', 'Q', 'S', 'T', 'Y'])"
   ]
  },
  {
   "cell_type": "code",
   "execution_count": 34,
   "metadata": {},
   "outputs": [],
   "source": [
    "def print_stats(seq):\n",
    "    neg_counter = pos_counter = nonpolar_counter = polar_counter = his_counter = 0\n",
    "    for i in seq:\n",
    "        if i in negative_aa:\n",
    "            neg_counter += 1\n",
    "        elif i in positive_aa:\n",
    "            pos_counter += 1\n",
    "        elif i in nonpolar_aa:\n",
    "            nonpolar_counter += 1\n",
    "        elif i in polar_aa:\n",
    "            polar_counter += 1\n",
    "        if i == 'H':\n",
    "            his_counter += 1\n",
    "    # naive implementation for sequence charge using HH-equation\n",
    "    print(\"Negatively charged: {0}/{1} ({2}%)\".format(neg_counter, len(seq), neg_counter/len(seq)*100))\n",
    "    print(\"Postively charged: {0}/{1} ({2}%)\".format(pos_counter, len(seq), pos_counter/len(seq)*100))    \n",
    "    print(\"Polar: {0}/{1} ({2}%)\".format(polar_counter, len(seq), polar_counter/len(seq)*100))\n",
    "    print(\"Non-Polar: {0}/{1} ({2}%)\".format(nonpolar_counter, len(seq), nonpolar_counter/len(seq)*100))\n",
    "    print(\"Net charge at pH=7.4: {0}\".format(pos_counter - neg_counter))"
   ]
  },
  {
   "cell_type": "code",
   "execution_count": 35,
   "metadata": {},
   "outputs": [
    {
     "name": "stdout",
     "output_type": "stream",
     "text": [
      "Negatively charged: 29/215 (13.488372093023257%)\n",
      "Postively charged: 30/215 (13.953488372093023%)\n",
      "Polar: 39/215 (18.13953488372093%)\n",
      "Non-Polar: 110/215 (51.162790697674424%)\n",
      "Net charge at pH=7.4: 1\n"
     ]
    }
   ],
   "source": [
    "print_stats(\"GSHMAARRGALIVLEGVDRAGKSTQSRKLVEALCAAGHRAELLRFPERSTEIGKLLSSYLQKKSDVEDHSVHLLFSANRWEQVPLIKEKLSQGVTLVVDRYAFSGVAFTGAKENFSLDWCKQPDVGLPKPDLVLFLQLQLADAAKRGAFGHERYENGAFQERALRCFHQLMKDTTLNWKMVDASKSIEAVHEDIRVLSEDAIATATEKPLGELWK\")"
   ]
  },
  {
   "cell_type": "markdown",
   "metadata": {},
   "source": [
    "Histidine is generally considered neutral at pH=7.4, which is backed by the Henderson-Hasselbalch equation shown below:\n",
    "\n",
    "$$7.4=6+\\log{\\mathrm{\\frac{[His]}{[His^+]}}}$$\n",
    "$$1.4=\\log{\\mathrm{\\frac{[His]}{[His^+]}}}$$\n",
    "$$25=\\mathrm{\\frac{[His]}{[His^+]}}$$\n",
    "$$\\mathrm{[His]}=25\\mathrm{[His^+]}$$\n",
    "\n",
    "Then the charge is roughly: $\\frac{1}{1+25}=0.038\\approx0$"
   ]
  },
  {
   "cell_type": "code",
   "execution_count": 2,
   "metadata": {},
   "outputs": [
    {
     "name": "stdout",
     "output_type": "stream",
     "text": [
      "0.716780683040021\n",
      "7.902744102478028\n"
     ]
    }
   ],
   "source": [
    "from Bio.SeqUtils.ProtParam import ProteinAnalysis\n",
    "\n",
    "seq = ProteinAnalysis(\"GSHMAARRGALIVLEGVDRAGKSTQSRKLVEALCAAGHRAELLRFPERSTEIGKLLSSYLQKKSDVEDHSVHLLFSANRWEQVPLIKEKLSQGVTLVVDRYAFSGVAFTGAKENFSLDWCKQPDVGLPKPDLVLFLQLQLADAAKRGAFGHERYENGAFQERALRCFHQLMKDTTLNWKMVDASKSIEAVHEDIRVLSEDAIATATEKPLGELWK\")\n",
    "print(seq.charge_at_pH(7.4))\n",
    "print(seq.isoelectric_point())"
   ]
  },
  {
   "cell_type": "code",
   "execution_count": 1,
   "metadata": {},
   "outputs": [
    {
     "name": "stdout",
     "output_type": "stream",
     "text": [
      "0.716780683040021\n",
      "7.902744102478028\n"
     ]
    }
   ],
   "source": [
    "from Bio.SeqUtils.ProtParam import ProteinAnalysis\n",
    "\n",
    "seq = ProteinAnalysis(\"GSHMAARRGALIVLEGVDRAGKSTQSRKLVEALCAAGHRAELLRFPERSTEIGKLLSSYLQKKSDVEDHSVHLLFSANRWEQVPLIKEKLSQGVTLVVDRYAFSGVAFTGAKENFSLDWCKQPDVGLPKPDLVLFLQLQLADAAKRGAFGHERYENGAFQERALRCFHQLMKDTTLNWKMVDASKSIEAVHEDIRVLSEDAIATATEKPLGELWK\")\n",
    "print(seq.charge_at_pH(7.4))\n",
    "print(seq.isoelectric_point())"
   ]
  },
  {
   "cell_type": "code",
   "execution_count": 2,
   "metadata": {},
   "outputs": [
    {
     "name": "stdout",
     "output_type": "stream",
     "text": [
      "2.585177699013698\n",
      "10.00138339996338\n"
     ]
    }
   ],
   "source": [
    "from Bio.SeqUtils.ProtParam import ProteinAnalysis\n",
    "\n",
    "seq = ProteinAnalysis(\"GIGKFLHSAKKFGKAFVGEIMNS\")\n",
    "print(seq.charge_at_pH(7.4))\n",
    "print(seq.isoelectric_point())"
   ]
  },
  {
   "cell_type": "code",
   "execution_count": null,
   "metadata": {},
   "outputs": [],
   "source": []
  }
 ],
 "metadata": {
  "kernelspec": {
   "display_name": "Python 3",
   "language": "python",
   "name": "python3"
  },
  "language_info": {
   "codemirror_mode": {
    "name": "ipython",
    "version": 3
   },
   "file_extension": ".py",
   "mimetype": "text/x-python",
   "name": "python",
   "nbconvert_exporter": "python",
   "pygments_lexer": "ipython3",
   "version": "3.7.0"
  }
 },
 "nbformat": 4,
 "nbformat_minor": 4
}
