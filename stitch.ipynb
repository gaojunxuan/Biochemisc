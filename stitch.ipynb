{
 "cells": [
  {
   "cell_type": "code",
   "execution_count": 2,
   "metadata": {},
   "outputs": [],
   "source": [
    "aa = set(['A', 'C', 'D', 'E', 'F', 'G', 'H', 'I', 'K', 'L', 'M', 'N', 'P', 'Q', 'R', 'S', 'T', 'V', 'W', 'Y'])\n",
    "cA_exception = set(['P', 'R', 'K'])\n",
    "slice_before = {\n",
    "    'carboxypeptidaseA': aa - cA_exception,\n",
    "    'carboxypeptidaseB': set(['R', 'K'])\n",
    "}\n",
    "slice_after = {\n",
    "    'trypsin': set(['K', 'R']),\n",
    "    'chymotrypsin': set(['W', 'Y', 'F', 'L', 'M']),\n",
    "    'cyanogenBr': set(['M'])\n",
    "}"
   ]
  },
  {
   "cell_type": "code",
   "execution_count": 17,
   "metadata": {},
   "outputs": [],
   "source": [
    "def locate_c_terminus(seq, enzyme):\n",
    "    indices = 0\n",
    "    for i, s in enumerate(seq):\n",
    "        if s[len(s)-1] not in slice_after[enzyme]:\n",
    "            indices = i\n",
    "    return indices\n",
    "\n",
    "def locate_n_terminus(seq, enzyme):\n",
    "    indices = 0\n",
    "    for i, s in enumerate(seq):\n",
    "        if s[0] not in slice_before[enzyme]:\n",
    "            indices = i\n",
    "    return indices"
   ]
  },
  {
   "cell_type": "code",
   "execution_count": 43,
   "metadata": {},
   "outputs": [],
   "source": [
    "from itertools import permutations\n",
    "def stitch(seq1, enzyme1, seq2, enzyme2):\n",
    "    combined1 = []\n",
    "    combined2 = []\n",
    "    if enzyme1 in slice_after:\n",
    "        end = locate_c_terminus(seq1, enzyme1)\n",
    "        perm = list(permutations(seq1[:end]+seq1[end+1:]))\n",
    "        combined1 = [''.join(i) + seq1[end] for i in perm]\n",
    "    elif enzyme1 in slice_before:\n",
    "        start = locate_n_terminus(seq1, enzyme1)\n",
    "        perm = list(permutations(seq1[:end]+seq1[end+1:]))\n",
    "        combined1 = [seq1[start] + ''.join(i) for i in perm]\n",
    "    if enzyme2 in slice_after:\n",
    "        end = locate_c_terminus(seq2, enzyme2)\n",
    "        perm = list(permutations(seq2[:end]+seq2[end+1:]))\n",
    "        combined2 = [''.join(i) + seq2[end] for i in perm]\n",
    "    elif enzyme2 in slice_before:\n",
    "        start = locate_n_terminus(seq2, enzyme2)\n",
    "        perm = list(permutations(seq2[:end]+seq2[end+1:]))\n",
    "        combined2 = [seq2[start] + ''.join(i) for i in perm]\n",
    "    return set(combined1).intersection(set(combined2))"
   ]
  },
  {
   "cell_type": "code",
   "execution_count": 44,
   "metadata": {},
   "outputs": [
    {
     "data": {
      "text/plain": [
       "{'AVFNDYRQSVVWKEH'}"
      ]
     },
     "execution_count": 44,
     "metadata": {},
     "output_type": "execute_result"
    }
   ],
   "source": [
    "stitch(['QSVVWK','AVFNDYR', 'EH'], 'trypsin', ['KEH','NDY','RQSVVW','AVF'], 'chymotrypsin')"
   ]
  },
  {
   "cell_type": "code",
   "execution_count": 45,
   "metadata": {},
   "outputs": [
    {
     "data": {
      "text/plain": [
       "{'KYLEISVERYRIGHT'}"
      ]
     },
     "execution_count": 45,
     "metadata": {},
     "output_type": "execute_result"
    }
   ],
   "source": [
    "stitch(['K','YLEISVER','YR','IGHT'], 'trypsin', ['KY','L','EISVERY','RIGHT'], 'chymotrypsin')"
   ]
  },
  {
   "cell_type": "code",
   "execution_count": null,
   "metadata": {},
   "outputs": [],
   "source": []
  }
 ],
 "metadata": {
  "kernelspec": {
   "display_name": "Python 3",
   "language": "python",
   "name": "python3"
  },
  "language_info": {
   "codemirror_mode": {
    "name": "ipython",
    "version": 3
   },
   "file_extension": ".py",
   "mimetype": "text/x-python",
   "name": "python",
   "nbconvert_exporter": "python",
   "pygments_lexer": "ipython3",
   "version": "3.7.0"
  }
 },
 "nbformat": 4,
 "nbformat_minor": 4
}
